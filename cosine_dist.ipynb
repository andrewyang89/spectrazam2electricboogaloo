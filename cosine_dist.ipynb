{
 "cells": [
  {
   "cell_type": "code",
   "execution_count": 1,
   "metadata": {},
   "outputs": [],
   "source": [
    "import numpy as np"
   ]
  },
  {
   "cell_type": "code",
   "execution_count": 2,
   "metadata": {},
   "outputs": [],
   "source": [
    "def cos_dist(d1, d2):\n",
    "    \"\"\"\n",
    "    Returns the cosine distance between two description vectors.\n",
    "    \n",
    "    Parameters\n",
    "    ----------\n",
    "    d1: np.array\n",
    "        First description vector\n",
    "    d2: np.array\n",
    "        Second description vector\n",
    "        \n",
    "    Returns\n",
    "    -------\n",
    "    cos_dist: float\n",
    "        The distance between the two input vectors on range [0, 2]\n",
    "    \"\"\"\n",
    "    d2 = d2.reshape(512, 1)\n",
    "    cos = d1 @ d2 / (np.linalg.norm(d1) * np.linalg.norm(d2))\n",
    "    return 1 - cos"
   ]
  },
  {
   "cell_type": "code",
   "execution_count": null,
   "metadata": {},
   "outputs": [],
   "source": []
  }
 ],
 "metadata": {
  "kernelspec": {
   "display_name": "Python 3",
   "language": "python",
   "name": "python3"
  },
  "language_info": {
   "codemirror_mode": {
    "name": "ipython",
    "version": 3
   },
   "file_extension": ".py",
   "mimetype": "text/x-python",
   "name": "python",
   "nbconvert_exporter": "python",
   "pygments_lexer": "ipython3",
   "version": "3.8.3"
  }
 },
 "nbformat": 4,
 "nbformat_minor": 4
}
